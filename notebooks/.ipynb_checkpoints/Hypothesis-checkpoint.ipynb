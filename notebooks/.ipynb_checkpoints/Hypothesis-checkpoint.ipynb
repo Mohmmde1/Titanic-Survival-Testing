{
 "cells": [
  {
   "cell_type": "code",
   "execution_count": 15,
   "id": "bbb51bad",
   "metadata": {},
   "outputs": [
    {
     "name": "stderr",
     "output_type": "stream",
     "text": [
      "Warning message:\n",
      "\"package 'titanic' is in use and will not be installed\"Registered S3 methods overwritten by 'ggplot2':\n",
      "  method         from \n",
      "  [.quosures     rlang\n",
      "  c.quosures     rlang\n",
      "  print.quosures rlang\n"
     ]
    }
   ],
   "source": [
    "install.packages(\"titanic\")\n",
    "# Load the necessary libraries\n",
    "library(titanic)\n",
    "library(ggplot2)"
   ]
  },
  {
   "cell_type": "code",
   "execution_count": 16,
   "id": "64c531d6",
   "metadata": {},
   "outputs": [],
   "source": [
    "# Load the Titanic training dataset\n",
    "data(\"titanic_train\")"
   ]
  },
  {
   "cell_type": "code",
   "execution_count": 17,
   "id": "c21a1e29",
   "metadata": {},
   "outputs": [],
   "source": [
    "# Subset the dataset to include only the variables of interest (Survived and Sex)\n",
    "df <- titanic_train[, c(\"Survived\", \"Sex\")]"
   ]
  },
  {
   "cell_type": "code",
   "execution_count": 23,
   "id": "ddccdc3e",
   "metadata": {},
   "outputs": [
    {
     "ename": "ERROR",
     "evalue": "Error in eval(expr, envir, enclos): object 'df.size' not found\n",
     "output_type": "error",
     "traceback": [
      "Error in eval(expr, envir, enclos): object 'df.size' not found\nTraceback:\n"
     ]
    }
   ],
   "source": [
    "df"
   ]
  },
  {
   "cell_type": "code",
   "execution_count": 6,
   "id": "7d03797f",
   "metadata": {},
   "outputs": [],
   "source": [
    "# Create contingency table\n",
    "contingency_table <- table(df$Survived, df$Sex)"
   ]
  },
  {
   "cell_type": "code",
   "execution_count": 7,
   "id": "b893ba1b",
   "metadata": {},
   "outputs": [
    {
     "data": {
      "text/plain": [
       "     \n",
       "      Male Female\n",
       "  No     8      8\n",
       "  Yes    8      8"
      ]
     },
     "metadata": {},
     "output_type": "display_data"
    }
   ],
   "source": [
    "contingency_table"
   ]
  },
  {
   "cell_type": "code",
   "execution_count": null,
   "id": "98c8531b",
   "metadata": {},
   "outputs": [],
   "source": []
  }
 ],
 "metadata": {
  "kernelspec": {
   "display_name": "R",
   "language": "R",
   "name": "ir"
  },
  "language_info": {
   "codemirror_mode": "r",
   "file_extension": ".r",
   "mimetype": "text/x-r-source",
   "name": "R",
   "pygments_lexer": "r",
   "version": "3.6.1"
  }
 },
 "nbformat": 4,
 "nbformat_minor": 5
}
