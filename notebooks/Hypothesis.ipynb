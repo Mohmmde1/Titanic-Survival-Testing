{
 "cells": [
  {
   "attachments": {},
   "cell_type": "markdown",
   "id": "1c86cc4e",
   "metadata": {},
   "source": [
    "### In the context of the Titanic dataset and the hypothesis test being performed, the null hypothesis and alternative hypothesis can be defined as follows:\n",
    "\n",
    "Null Hypothesis (H₀): The survival rates of male and female passengers on the Titanic are the same.\n",
    "\n",
    "Alternative Hypothesis (H₁): The survival rates of male and female passengers on the Titanic are different."
   ]
  },
  {
   "cell_type": "code",
   "execution_count": null,
   "id": "b0dc0038",
   "metadata": {
    "vscode": {
     "languageId": "r"
    }
   },
   "outputs": [
    {
     "name": "stderr",
     "output_type": "stream",
     "text": [
      "Warning message:\n",
      "\"package 'titanic' is in use and will not be installed\""
     ]
    }
   ],
   "source": [
    "install.packages(\"titanic\")\n",
    "# Load the necessary libraries\n",
    "library(titanic)\n",
    "library(ggplot2)"
   ]
  },
  {
   "cell_type": "code",
   "execution_count": null,
   "id": "7d2fe1d4",
   "metadata": {
    "vscode": {
     "languageId": "r"
    }
   },
   "outputs": [],
   "source": [
    "# Load the Titanic training dataset\n",
    "data(\"titanic_train\")"
   ]
  },
  {
   "cell_type": "code",
   "execution_count": null,
   "id": "bbb132bf",
   "metadata": {
    "vscode": {
     "languageId": "r"
    }
   },
   "outputs": [],
   "source": [
    "# Subset the dataset to include only the variables of interest (Survived and Sex)\n",
    "df <- titanic_train[, c(\"Survived\", \"Sex\")]"
   ]
  },
  {
   "cell_type": "code",
   "execution_count": null,
   "id": "b214539a",
   "metadata": {
    "vscode": {
     "languageId": "r"
    }
   },
   "outputs": [
    {
     "data": {
      "text/html": [
       "<table>\n",
       "<thead><tr><th scope=col>Survived</th><th scope=col>Sex</th></tr></thead>\n",
       "<tbody>\n",
       "\t<tr><td>0     </td><td>male  </td></tr>\n",
       "\t<tr><td>1     </td><td>female</td></tr>\n",
       "\t<tr><td>1     </td><td>female</td></tr>\n",
       "\t<tr><td>1     </td><td>female</td></tr>\n",
       "\t<tr><td>0     </td><td>male  </td></tr>\n",
       "\t<tr><td>0     </td><td>male  </td></tr>\n",
       "\t<tr><td>0     </td><td>male  </td></tr>\n",
       "\t<tr><td>0     </td><td>male  </td></tr>\n",
       "\t<tr><td>1     </td><td>female</td></tr>\n",
       "\t<tr><td>1     </td><td>female</td></tr>\n",
       "\t<tr><td>1     </td><td>female</td></tr>\n",
       "\t<tr><td>1     </td><td>female</td></tr>\n",
       "\t<tr><td>0     </td><td>male  </td></tr>\n",
       "\t<tr><td>0     </td><td>male  </td></tr>\n",
       "\t<tr><td>0     </td><td>female</td></tr>\n",
       "\t<tr><td>1     </td><td>female</td></tr>\n",
       "\t<tr><td>0     </td><td>male  </td></tr>\n",
       "\t<tr><td>1     </td><td>male  </td></tr>\n",
       "\t<tr><td>0     </td><td>female</td></tr>\n",
       "\t<tr><td>1     </td><td>female</td></tr>\n",
       "\t<tr><td>0     </td><td>male  </td></tr>\n",
       "\t<tr><td>1     </td><td>male  </td></tr>\n",
       "\t<tr><td>1     </td><td>female</td></tr>\n",
       "\t<tr><td>1     </td><td>male  </td></tr>\n",
       "\t<tr><td>0     </td><td>female</td></tr>\n",
       "\t<tr><td>1     </td><td>female</td></tr>\n",
       "\t<tr><td>0     </td><td>male  </td></tr>\n",
       "\t<tr><td>0     </td><td>male  </td></tr>\n",
       "\t<tr><td>1     </td><td>female</td></tr>\n",
       "\t<tr><td>0     </td><td>male  </td></tr>\n",
       "\t<tr><td>...</td><td>...</td></tr>\n",
       "\t<tr><td>0     </td><td>male  </td></tr>\n",
       "\t<tr><td>1     </td><td>female</td></tr>\n",
       "\t<tr><td>0     </td><td>female</td></tr>\n",
       "\t<tr><td>0     </td><td>male  </td></tr>\n",
       "\t<tr><td>1     </td><td>female</td></tr>\n",
       "\t<tr><td>1     </td><td>female</td></tr>\n",
       "\t<tr><td>0     </td><td>male  </td></tr>\n",
       "\t<tr><td>0     </td><td>male  </td></tr>\n",
       "\t<tr><td>1     </td><td>male  </td></tr>\n",
       "\t<tr><td>0     </td><td>male  </td></tr>\n",
       "\t<tr><td>1     </td><td>female</td></tr>\n",
       "\t<tr><td>0     </td><td>male  </td></tr>\n",
       "\t<tr><td>0     </td><td>male  </td></tr>\n",
       "\t<tr><td>1     </td><td>female</td></tr>\n",
       "\t<tr><td>1     </td><td>female</td></tr>\n",
       "\t<tr><td>0     </td><td>male  </td></tr>\n",
       "\t<tr><td>0     </td><td>male  </td></tr>\n",
       "\t<tr><td>0     </td><td>male  </td></tr>\n",
       "\t<tr><td>1     </td><td>female</td></tr>\n",
       "\t<tr><td>1     </td><td>female</td></tr>\n",
       "\t<tr><td>0     </td><td>male  </td></tr>\n",
       "\t<tr><td>0     </td><td>female</td></tr>\n",
       "\t<tr><td>0     </td><td>male  </td></tr>\n",
       "\t<tr><td>0     </td><td>male  </td></tr>\n",
       "\t<tr><td>0     </td><td>female</td></tr>\n",
       "\t<tr><td>0     </td><td>male  </td></tr>\n",
       "\t<tr><td>1     </td><td>female</td></tr>\n",
       "\t<tr><td>0     </td><td>female</td></tr>\n",
       "\t<tr><td>1     </td><td>male  </td></tr>\n",
       "\t<tr><td>0     </td><td>male  </td></tr>\n",
       "</tbody>\n",
       "</table>\n"
      ],
      "text/latex": [
       "\\begin{tabular}{r|ll}\n",
       " Survived & Sex\\\\\n",
       "\\hline\n",
       "\t 0      & male  \\\\\n",
       "\t 1      & female\\\\\n",
       "\t 1      & female\\\\\n",
       "\t 1      & female\\\\\n",
       "\t 0      & male  \\\\\n",
       "\t 0      & male  \\\\\n",
       "\t 0      & male  \\\\\n",
       "\t 0      & male  \\\\\n",
       "\t 1      & female\\\\\n",
       "\t 1      & female\\\\\n",
       "\t 1      & female\\\\\n",
       "\t 1      & female\\\\\n",
       "\t 0      & male  \\\\\n",
       "\t 0      & male  \\\\\n",
       "\t 0      & female\\\\\n",
       "\t 1      & female\\\\\n",
       "\t 0      & male  \\\\\n",
       "\t 1      & male  \\\\\n",
       "\t 0      & female\\\\\n",
       "\t 1      & female\\\\\n",
       "\t 0      & male  \\\\\n",
       "\t 1      & male  \\\\\n",
       "\t 1      & female\\\\\n",
       "\t 1      & male  \\\\\n",
       "\t 0      & female\\\\\n",
       "\t 1      & female\\\\\n",
       "\t 0      & male  \\\\\n",
       "\t 0      & male  \\\\\n",
       "\t 1      & female\\\\\n",
       "\t 0      & male  \\\\\n",
       "\t ... & ...\\\\\n",
       "\t 0      & male  \\\\\n",
       "\t 1      & female\\\\\n",
       "\t 0      & female\\\\\n",
       "\t 0      & male  \\\\\n",
       "\t 1      & female\\\\\n",
       "\t 1      & female\\\\\n",
       "\t 0      & male  \\\\\n",
       "\t 0      & male  \\\\\n",
       "\t 1      & male  \\\\\n",
       "\t 0      & male  \\\\\n",
       "\t 1      & female\\\\\n",
       "\t 0      & male  \\\\\n",
       "\t 0      & male  \\\\\n",
       "\t 1      & female\\\\\n",
       "\t 1      & female\\\\\n",
       "\t 0      & male  \\\\\n",
       "\t 0      & male  \\\\\n",
       "\t 0      & male  \\\\\n",
       "\t 1      & female\\\\\n",
       "\t 1      & female\\\\\n",
       "\t 0      & male  \\\\\n",
       "\t 0      & female\\\\\n",
       "\t 0      & male  \\\\\n",
       "\t 0      & male  \\\\\n",
       "\t 0      & female\\\\\n",
       "\t 0      & male  \\\\\n",
       "\t 1      & female\\\\\n",
       "\t 0      & female\\\\\n",
       "\t 1      & male  \\\\\n",
       "\t 0      & male  \\\\\n",
       "\\end{tabular}\n"
      ],
      "text/markdown": [
       "\n",
       "| Survived | Sex |\n",
       "|---|---|\n",
       "| 0      | male   |\n",
       "| 1      | female |\n",
       "| 1      | female |\n",
       "| 1      | female |\n",
       "| 0      | male   |\n",
       "| 0      | male   |\n",
       "| 0      | male   |\n",
       "| 0      | male   |\n",
       "| 1      | female |\n",
       "| 1      | female |\n",
       "| 1      | female |\n",
       "| 1      | female |\n",
       "| 0      | male   |\n",
       "| 0      | male   |\n",
       "| 0      | female |\n",
       "| 1      | female |\n",
       "| 0      | male   |\n",
       "| 1      | male   |\n",
       "| 0      | female |\n",
       "| 1      | female |\n",
       "| 0      | male   |\n",
       "| 1      | male   |\n",
       "| 1      | female |\n",
       "| 1      | male   |\n",
       "| 0      | female |\n",
       "| 1      | female |\n",
       "| 0      | male   |\n",
       "| 0      | male   |\n",
       "| 1      | female |\n",
       "| 0      | male   |\n",
       "| ... | ... |\n",
       "| 0      | male   |\n",
       "| 1      | female |\n",
       "| 0      | female |\n",
       "| 0      | male   |\n",
       "| 1      | female |\n",
       "| 1      | female |\n",
       "| 0      | male   |\n",
       "| 0      | male   |\n",
       "| 1      | male   |\n",
       "| 0      | male   |\n",
       "| 1      | female |\n",
       "| 0      | male   |\n",
       "| 0      | male   |\n",
       "| 1      | female |\n",
       "| 1      | female |\n",
       "| 0      | male   |\n",
       "| 0      | male   |\n",
       "| 0      | male   |\n",
       "| 1      | female |\n",
       "| 1      | female |\n",
       "| 0      | male   |\n",
       "| 0      | female |\n",
       "| 0      | male   |\n",
       "| 0      | male   |\n",
       "| 0      | female |\n",
       "| 0      | male   |\n",
       "| 1      | female |\n",
       "| 0      | female |\n",
       "| 1      | male   |\n",
       "| 0      | male   |\n",
       "\n"
      ],
      "text/plain": [
       "    Survived Sex   \n",
       "1   0        male  \n",
       "2   1        female\n",
       "3   1        female\n",
       "4   1        female\n",
       "5   0        male  \n",
       "6   0        male  \n",
       "7   0        male  \n",
       "8   0        male  \n",
       "9   1        female\n",
       "10  1        female\n",
       "11  1        female\n",
       "12  1        female\n",
       "13  0        male  \n",
       "14  0        male  \n",
       "15  0        female\n",
       "16  1        female\n",
       "17  0        male  \n",
       "18  1        male  \n",
       "19  0        female\n",
       "20  1        female\n",
       "21  0        male  \n",
       "22  1        male  \n",
       "23  1        female\n",
       "24  1        male  \n",
       "25  0        female\n",
       "26  1        female\n",
       "27  0        male  \n",
       "28  0        male  \n",
       "29  1        female\n",
       "30  0        male  \n",
       "... ...      ...   \n",
       "862 0        male  \n",
       "863 1        female\n",
       "864 0        female\n",
       "865 0        male  \n",
       "866 1        female\n",
       "867 1        female\n",
       "868 0        male  \n",
       "869 0        male  \n",
       "870 1        male  \n",
       "871 0        male  \n",
       "872 1        female\n",
       "873 0        male  \n",
       "874 0        male  \n",
       "875 1        female\n",
       "876 1        female\n",
       "877 0        male  \n",
       "878 0        male  \n",
       "879 0        male  \n",
       "880 1        female\n",
       "881 1        female\n",
       "882 0        male  \n",
       "883 0        female\n",
       "884 0        male  \n",
       "885 0        male  \n",
       "886 0        female\n",
       "887 0        male  \n",
       "888 1        female\n",
       "889 0        female\n",
       "890 1        male  \n",
       "891 0        male  "
      ]
     },
     "metadata": {},
     "output_type": "display_data"
    }
   ],
   "source": [
    "df"
   ]
  },
  {
   "cell_type": "code",
   "execution_count": null,
   "id": "d42535f9",
   "metadata": {
    "vscode": {
     "languageId": "r"
    }
   },
   "outputs": [
    {
     "data": {
      "text/plain": [
       "   \n",
       "    female male\n",
       "  0     81  468\n",
       "  1    233  109"
      ]
     },
     "metadata": {},
     "output_type": "display_data"
    }
   ],
   "source": [
    "# Create contingency table\n",
    "contingency_table <- table(df$Survived, df$Sex)\n",
    "contingency_table"
   ]
  },
  {
   "cell_type": "code",
   "execution_count": null,
   "id": "fdcd576b",
   "metadata": {
    "vscode": {
     "languageId": "r"
    }
   },
   "outputs": [
    {
     "name": "stdout",
     "output_type": "stream",
     "text": [
      "\n",
      "\tPearson's Chi-squared test with Yates' continuity correction\n",
      "\n",
      "data:  contingency_table\n",
      "X-squared = 260.72, df = 1, p-value < 2.2e-16\n",
      "\n"
     ]
    }
   ],
   "source": [
    "# Perform chi-square test\n",
    "chi_square_result <- chisq.test(contingency_table)\n",
    "# Print the test result\n",
    "print(chi_square_result)"
   ]
  },
  {
   "cell_type": "code",
   "execution_count": null,
   "id": "5ae10a47",
   "metadata": {
    "vscode": {
     "languageId": "r"
    }
   },
   "outputs": [
    {
     "data": {
      "image/png": "[encoded data removed]",
      "text/plain": [
       "plot without title"
      ]
     },
     "metadata": {},
     "output_type": "display_data"
    }
   ],
   "source": [
    "# Create a bar plot to visualize survival rates by gender\n",
    "ggplot(data = df, aes(x = Sex, fill = factor(Survived))) +\n",
    "  geom_bar(position = \"fill\") +\n",
    "  labs(x = \"Sex\", y = \"Proportion\", fill = \"Survived\") +\n",
    "  ggtitle(\"Survival Rates by Gender\")"
   ]
  },
  {
   "attachments": {},
   "cell_type": "markdown",
   "id": "288d242d",
   "metadata": {},
   "source": []
  },
  {
   "attachments": {},
   "cell_type": "markdown",
   "id": "e4ba5a75",
   "metadata": {},
   "source": [
    "- If $p$-value $< \\alpha$, reject $H_0$, data provide evidence for $H_A$\n",
    "- If $p$-value $> \\alpha$, do not reject $H_0$, data do not provide "
   ]
  },
  {
   "attachments": {},
   "cell_type": "markdown",
   "id": "cd90030c",
   "metadata": {},
   "source": [
    "Given the result with a p-value reported to be less than 2.2e-16, which is essentially zero, we can conclude the following:\n",
    "\n",
    "**We reject the null hypothesis (H₀) in favor of the alternative hypothesis (Hₐ)** because the p-value is significantly smaller than the chosen significance level (α). The data provide strong evidence to support the conclusion that there is a significant difference in the survival rates of male and female passengers on the Titanic."
   ]
  }
 ],
 "metadata": {
  "kernelspec": {
   "display_name": "R",
   "language": "R",
   "name": "ir"
  },
  "language_info": {
   "codemirror_mode": "r",
   "file_extension": ".r",
   "mimetype": "text/x-r-source",
   "name": "R",
   "pygments_lexer": "r",
   "version": "3.6.1"
  }
 },
 "nbformat": 4,
 "nbformat_minor": 5
}
