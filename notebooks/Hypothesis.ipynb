{
 "cells": [
  {
   "attachments": {},
   "cell_type": "markdown",
   "id": "1c86cc4e",
   "metadata": {},
   "source": [
    "### In the context of the Titanic dataset and the hypothesis test being performed, the null hypothesis and alternative hypothesis can be defined as follows:\n",
    "\n",
    "Null hypothesis (H0): There is no association between survival and passenger class in the population.\n",
    "\n",
    "Alternative hypothesis (H1): There is an association between survival and passenger class in the population"
   ]
  },
  {
   "cell_type": "code",
   "execution_count": 1,
   "id": "b0dc0038",
   "metadata": {
    "vscode": {
     "languageId": "r"
    }
   },
   "outputs": [
    {
     "name": "stdout",
     "output_type": "stream",
     "text": [
      "package 'titanic' successfully unpacked and MD5 sums checked\n",
      "\n",
      "The downloaded binary packages are in\n",
      "\tC:\\Users\\Medhat\\AppData\\Local\\Temp\\Rtmp0IEE8l\\downloaded_packages\n"
     ]
    },
    {
     "name": "stderr",
     "output_type": "stream",
     "text": [
      "Warning message:\n",
      "\"package 'titanic' was built under R version 3.6.3\"Registered S3 methods overwritten by 'ggplot2':\n",
      "  method         from \n",
      "  [.quosures     rlang\n",
      "  c.quosures     rlang\n",
      "  print.quosures rlang\n"
     ]
    }
   ],
   "source": [
    "install.packages(\"titanic\")\n",
    "# Load the necessary libraries\n",
    "library(titanic)\n",
    "library(ggplot2)"
   ]
  },
  {
   "cell_type": "code",
   "execution_count": 2,
   "id": "7d2fe1d4",
   "metadata": {
    "vscode": {
     "languageId": "r"
    }
   },
   "outputs": [],
   "source": [
    "# Load the Titanic training dataset\n",
    "data(\"titanic_train\")"
   ]
  },
  {
   "cell_type": "code",
   "execution_count": 3,
   "id": "bbb132bf",
   "metadata": {
    "vscode": {
     "languageId": "r"
    }
   },
   "outputs": [],
   "source": [
    "# Subset the dataset to include only the variables of interest (Survived and Sex)\n",
    "df <- titanic_train[, c(\"Survived\", \"Pclass\")]"
   ]
  },
  {
   "cell_type": "code",
   "execution_count": 4,
   "id": "b214539a",
   "metadata": {
    "vscode": {
     "languageId": "r"
    }
   },
   "outputs": [
    {
     "data": {
      "text/html": [
       "<table>\n",
       "<thead><tr><th scope=col>Survived</th><th scope=col>Pclass</th></tr></thead>\n",
       "<tbody>\n",
       "\t<tr><td>0</td><td>3</td></tr>\n",
       "\t<tr><td>1</td><td>1</td></tr>\n",
       "\t<tr><td>1</td><td>3</td></tr>\n",
       "\t<tr><td>1</td><td>1</td></tr>\n",
       "\t<tr><td>0</td><td>3</td></tr>\n",
       "\t<tr><td>0</td><td>3</td></tr>\n",
       "\t<tr><td>0</td><td>1</td></tr>\n",
       "\t<tr><td>0</td><td>3</td></tr>\n",
       "\t<tr><td>1</td><td>3</td></tr>\n",
       "\t<tr><td>1</td><td>2</td></tr>\n",
       "\t<tr><td>1</td><td>3</td></tr>\n",
       "\t<tr><td>1</td><td>1</td></tr>\n",
       "\t<tr><td>0</td><td>3</td></tr>\n",
       "\t<tr><td>0</td><td>3</td></tr>\n",
       "\t<tr><td>0</td><td>3</td></tr>\n",
       "\t<tr><td>1</td><td>2</td></tr>\n",
       "\t<tr><td>0</td><td>3</td></tr>\n",
       "\t<tr><td>1</td><td>2</td></tr>\n",
       "\t<tr><td>0</td><td>3</td></tr>\n",
       "\t<tr><td>1</td><td>3</td></tr>\n",
       "\t<tr><td>0</td><td>2</td></tr>\n",
       "\t<tr><td>1</td><td>2</td></tr>\n",
       "\t<tr><td>1</td><td>3</td></tr>\n",
       "\t<tr><td>1</td><td>1</td></tr>\n",
       "\t<tr><td>0</td><td>3</td></tr>\n",
       "\t<tr><td>1</td><td>3</td></tr>\n",
       "\t<tr><td>0</td><td>3</td></tr>\n",
       "\t<tr><td>0</td><td>1</td></tr>\n",
       "\t<tr><td>1</td><td>3</td></tr>\n",
       "\t<tr><td>0</td><td>3</td></tr>\n",
       "\t<tr><td>...</td><td>...</td></tr>\n",
       "\t<tr><td>0</td><td>2</td></tr>\n",
       "\t<tr><td>1</td><td>1</td></tr>\n",
       "\t<tr><td>0</td><td>3</td></tr>\n",
       "\t<tr><td>0</td><td>2</td></tr>\n",
       "\t<tr><td>1</td><td>2</td></tr>\n",
       "\t<tr><td>1</td><td>2</td></tr>\n",
       "\t<tr><td>0</td><td>1</td></tr>\n",
       "\t<tr><td>0</td><td>3</td></tr>\n",
       "\t<tr><td>1</td><td>3</td></tr>\n",
       "\t<tr><td>0</td><td>3</td></tr>\n",
       "\t<tr><td>1</td><td>1</td></tr>\n",
       "\t<tr><td>0</td><td>1</td></tr>\n",
       "\t<tr><td>0</td><td>3</td></tr>\n",
       "\t<tr><td>1</td><td>2</td></tr>\n",
       "\t<tr><td>1</td><td>3</td></tr>\n",
       "\t<tr><td>0</td><td>3</td></tr>\n",
       "\t<tr><td>0</td><td>3</td></tr>\n",
       "\t<tr><td>0</td><td>3</td></tr>\n",
       "\t<tr><td>1</td><td>1</td></tr>\n",
       "\t<tr><td>1</td><td>2</td></tr>\n",
       "\t<tr><td>0</td><td>3</td></tr>\n",
       "\t<tr><td>0</td><td>3</td></tr>\n",
       "\t<tr><td>0</td><td>2</td></tr>\n",
       "\t<tr><td>0</td><td>3</td></tr>\n",
       "\t<tr><td>0</td><td>3</td></tr>\n",
       "\t<tr><td>0</td><td>2</td></tr>\n",
       "\t<tr><td>1</td><td>1</td></tr>\n",
       "\t<tr><td>0</td><td>3</td></tr>\n",
       "\t<tr><td>1</td><td>1</td></tr>\n",
       "\t<tr><td>0</td><td>3</td></tr>\n",
       "</tbody>\n",
       "</table>\n"
      ],
      "text/latex": [
       "\\begin{tabular}{r|ll}\n",
       " Survived & Pclass\\\\\n",
       "\\hline\n",
       "\t 0 & 3\\\\\n",
       "\t 1 & 1\\\\\n",
       "\t 1 & 3\\\\\n",
       "\t 1 & 1\\\\\n",
       "\t 0 & 3\\\\\n",
       "\t 0 & 3\\\\\n",
       "\t 0 & 1\\\\\n",
       "\t 0 & 3\\\\\n",
       "\t 1 & 3\\\\\n",
       "\t 1 & 2\\\\\n",
       "\t 1 & 3\\\\\n",
       "\t 1 & 1\\\\\n",
       "\t 0 & 3\\\\\n",
       "\t 0 & 3\\\\\n",
       "\t 0 & 3\\\\\n",
       "\t 1 & 2\\\\\n",
       "\t 0 & 3\\\\\n",
       "\t 1 & 2\\\\\n",
       "\t 0 & 3\\\\\n",
       "\t 1 & 3\\\\\n",
       "\t 0 & 2\\\\\n",
       "\t 1 & 2\\\\\n",
       "\t 1 & 3\\\\\n",
       "\t 1 & 1\\\\\n",
       "\t 0 & 3\\\\\n",
       "\t 1 & 3\\\\\n",
       "\t 0 & 3\\\\\n",
       "\t 0 & 1\\\\\n",
       "\t 1 & 3\\\\\n",
       "\t 0 & 3\\\\\n",
       "\t ... & ...\\\\\n",
       "\t 0 & 2\\\\\n",
       "\t 1 & 1\\\\\n",
       "\t 0 & 3\\\\\n",
       "\t 0 & 2\\\\\n",
       "\t 1 & 2\\\\\n",
       "\t 1 & 2\\\\\n",
       "\t 0 & 1\\\\\n",
       "\t 0 & 3\\\\\n",
       "\t 1 & 3\\\\\n",
       "\t 0 & 3\\\\\n",
       "\t 1 & 1\\\\\n",
       "\t 0 & 1\\\\\n",
       "\t 0 & 3\\\\\n",
       "\t 1 & 2\\\\\n",
       "\t 1 & 3\\\\\n",
       "\t 0 & 3\\\\\n",
       "\t 0 & 3\\\\\n",
       "\t 0 & 3\\\\\n",
       "\t 1 & 1\\\\\n",
       "\t 1 & 2\\\\\n",
       "\t 0 & 3\\\\\n",
       "\t 0 & 3\\\\\n",
       "\t 0 & 2\\\\\n",
       "\t 0 & 3\\\\\n",
       "\t 0 & 3\\\\\n",
       "\t 0 & 2\\\\\n",
       "\t 1 & 1\\\\\n",
       "\t 0 & 3\\\\\n",
       "\t 1 & 1\\\\\n",
       "\t 0 & 3\\\\\n",
       "\\end{tabular}\n"
      ],
      "text/markdown": [
       "\n",
       "| Survived | Pclass |\n",
       "|---|---|\n",
       "| 0 | 3 |\n",
       "| 1 | 1 |\n",
       "| 1 | 3 |\n",
       "| 1 | 1 |\n",
       "| 0 | 3 |\n",
       "| 0 | 3 |\n",
       "| 0 | 1 |\n",
       "| 0 | 3 |\n",
       "| 1 | 3 |\n",
       "| 1 | 2 |\n",
       "| 1 | 3 |\n",
       "| 1 | 1 |\n",
       "| 0 | 3 |\n",
       "| 0 | 3 |\n",
       "| 0 | 3 |\n",
       "| 1 | 2 |\n",
       "| 0 | 3 |\n",
       "| 1 | 2 |\n",
       "| 0 | 3 |\n",
       "| 1 | 3 |\n",
       "| 0 | 2 |\n",
       "| 1 | 2 |\n",
       "| 1 | 3 |\n",
       "| 1 | 1 |\n",
       "| 0 | 3 |\n",
       "| 1 | 3 |\n",
       "| 0 | 3 |\n",
       "| 0 | 1 |\n",
       "| 1 | 3 |\n",
       "| 0 | 3 |\n",
       "| ... | ... |\n",
       "| 0 | 2 |\n",
       "| 1 | 1 |\n",
       "| 0 | 3 |\n",
       "| 0 | 2 |\n",
       "| 1 | 2 |\n",
       "| 1 | 2 |\n",
       "| 0 | 1 |\n",
       "| 0 | 3 |\n",
       "| 1 | 3 |\n",
       "| 0 | 3 |\n",
       "| 1 | 1 |\n",
       "| 0 | 1 |\n",
       "| 0 | 3 |\n",
       "| 1 | 2 |\n",
       "| 1 | 3 |\n",
       "| 0 | 3 |\n",
       "| 0 | 3 |\n",
       "| 0 | 3 |\n",
       "| 1 | 1 |\n",
       "| 1 | 2 |\n",
       "| 0 | 3 |\n",
       "| 0 | 3 |\n",
       "| 0 | 2 |\n",
       "| 0 | 3 |\n",
       "| 0 | 3 |\n",
       "| 0 | 2 |\n",
       "| 1 | 1 |\n",
       "| 0 | 3 |\n",
       "| 1 | 1 |\n",
       "| 0 | 3 |\n",
       "\n"
      ],
      "text/plain": [
       "    Survived Pclass\n",
       "1   0        3     \n",
       "2   1        1     \n",
       "3   1        3     \n",
       "4   1        1     \n",
       "5   0        3     \n",
       "6   0        3     \n",
       "7   0        1     \n",
       "8   0        3     \n",
       "9   1        3     \n",
       "10  1        2     \n",
       "11  1        3     \n",
       "12  1        1     \n",
       "13  0        3     \n",
       "14  0        3     \n",
       "15  0        3     \n",
       "16  1        2     \n",
       "17  0        3     \n",
       "18  1        2     \n",
       "19  0        3     \n",
       "20  1        3     \n",
       "21  0        2     \n",
       "22  1        2     \n",
       "23  1        3     \n",
       "24  1        1     \n",
       "25  0        3     \n",
       "26  1        3     \n",
       "27  0        3     \n",
       "28  0        1     \n",
       "29  1        3     \n",
       "30  0        3     \n",
       "... ...      ...   \n",
       "862 0        2     \n",
       "863 1        1     \n",
       "864 0        3     \n",
       "865 0        2     \n",
       "866 1        2     \n",
       "867 1        2     \n",
       "868 0        1     \n",
       "869 0        3     \n",
       "870 1        3     \n",
       "871 0        3     \n",
       "872 1        1     \n",
       "873 0        1     \n",
       "874 0        3     \n",
       "875 1        2     \n",
       "876 1        3     \n",
       "877 0        3     \n",
       "878 0        3     \n",
       "879 0        3     \n",
       "880 1        1     \n",
       "881 1        2     \n",
       "882 0        3     \n",
       "883 0        3     \n",
       "884 0        2     \n",
       "885 0        3     \n",
       "886 0        3     \n",
       "887 0        2     \n",
       "888 1        1     \n",
       "889 0        3     \n",
       "890 1        1     \n",
       "891 0        3     "
      ]
     },
     "metadata": {},
     "output_type": "display_data"
    }
   ],
   "source": [
    "df"
   ]
  },
  {
   "cell_type": "code",
   "execution_count": 9,
   "id": "d42535f9",
   "metadata": {
    "vscode": {
     "languageId": "r"
    }
   },
   "outputs": [
    {
     "data": {
      "text/plain": [
       "   \n",
       "      1   2   3\n",
       "  0  80  97 372\n",
       "  1 136  87 119"
      ]
     },
     "metadata": {},
     "output_type": "display_data"
    }
   ],
   "source": [
    "# Create contingency table\n",
    "contingency_table <- table(df$Survived, df$Pclass)\n",
    "contingency_table"
   ]
  },
  {
   "cell_type": "code",
   "execution_count": 10,
   "id": "fdcd576b",
   "metadata": {
    "vscode": {
     "languageId": "r"
    }
   },
   "outputs": [
    {
     "name": "stdout",
     "output_type": "stream",
     "text": [
      "\n",
      "\tPearson's Chi-squared test\n",
      "\n",
      "data:  contingency_table\n",
      "X-squared = 102.89, df = 2, p-value < 2.2e-16\n",
      "\n"
     ]
    }
   ],
   "source": [
    "# Perform chi-square test\n",
    "chi_square_result <- chisq.test(contingency_table)\n",
    "# Print the test result\n",
    "print(chi_square_result)"
   ]
  },
  {
   "cell_type": "code",
   "execution_count": 8,
   "id": "5ae10a47",
   "metadata": {
    "vscode": {
     "languageId": "r"
    }
   },
   "outputs": [
    {
     "data": {
      "image/png": "[encoded data removed]",
      "text/plain": [
       "plot without title"
      ]
     },
     "metadata": {},
     "output_type": "display_data"
    }
   ],
   "source": [
    "# Create a bar plot to visualize survival rates by passenger class\n",
    "ggplot(data = df, aes(x = factor(Pclass), fill = factor(ifelse(Survived == 1, \"Yes\", \"No\")))) +\n",
    "  geom_bar(position = \"fill\") +\n",
    "  labs(x = \"Passenger Class\", y = \"Proportion\", fill = \"Survived\") +\n",
    "  ggtitle(\"Survival Rates by Passenger Class\")\n"
   ]
  },
  {
   "attachments": {},
   "cell_type": "markdown",
   "id": "e4ba5a75",
   "metadata": {},
   "source": [
    "- If $p$-value $< \\alpha$, reject $H_0$, data provide evidence for $H_A$\n",
    "- If $p$-value $> \\alpha$, do not reject $H_0$, data do not provide "
   ]
  },
  {
   "attachments": {},
   "cell_type": "markdown",
   "id": "cd90030c",
   "metadata": {},
   "source": [
    "Given the result with a p-value reported to be less than 2.2e-16, which is essentially zero, we can conclude the following:\n",
    "\n",
    "We reject the null hypothesis (H₀) in favor of the alternative hypothesis (Hₐ) because the p-value is significantly smaller than the chosen significance level (α). The data provide strong evidence to support the conclusion that there is a significant association between survival and passenger class on the Titanic."
   ]
  },
  {
   "attachments": {},
   "cell_type": "markdown",
   "id": "e4e8f65f",
   "metadata": {},
   "source": []
  }
 ],
 "metadata": {
  "kernelspec": {
   "display_name": "R",
   "language": "R",
   "name": "ir"
  },
  "language_info": {
   "codemirror_mode": "r",
   "file_extension": ".r",
   "mimetype": "text/x-r-source",
   "name": "R",
   "pygments_lexer": "r",
   "version": "3.6.1"
  }
 },
 "nbformat": 4,
 "nbformat_minor": 5
}
